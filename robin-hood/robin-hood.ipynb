{
 "cells": [
  {
   "cell_type": "markdown",
   "metadata": {},
   "source": [
    "# Robin Hood\n",
    "## Intro\n",
    "We are in a competition to win the archery contest in Sherwood. With our bow and arrows we shoot on a target and try to hit as close as possible to the center.\n",
    "\n",
    "The center of the target is represented by the values (0, 0) on the coordinate axes.\n",
    "\n",
    "![](images/arrows.jpg)\n",
    "\n",
    "## Goals:\n",
    "* data structures: lists, sets, tuples\n",
    "* logical operators: if-elif-else\n",
    "* loop: while/for\n",
    "* minimum (optional sorting)\n",
    "\n",
    "## Description:\n",
    "In the 2-dimensional space, a point can be defined by a pair of values that correspond to the horizontal coordinate (x) and the vertical coordinate (y). The space can be divided into 4 zones (quadrants): Q1, Q2, Q3, Q4. Whose single point of union is the point (0, 0).\n",
    "\n",
    "If a point is in Q1 both its x coordinate and the y are positive. I leave a link to wikipedia to familiarize yourself with these quadrants.\n",
    "\n",
    "https://en.wikipedia.org/wiki/Cartesian_coordinate_system\n",
    "\n",
    "https://en.wikipedia.org/wiki/Euclidean_distance\n",
    "\n",
    "## Shots\n",
    "```\n",
    "points = [(4, 5), (-0, 2), (4, 7), (1, -3), (3, -2), (4, 5),\n",
    "          (3, 2), (5, 7), (-5, 7), (2, 2), (-4, 5), (0, -2),\n",
    "          (-4, 7), (-1, 3), (-3, 2), (-4, -5), (-3, 2),\n",
    "          (5, 7), (5, 7), (2, 2), (9, 9), (-8, -9)]\n",
    "```\n",
    "\n",
    "## Tasks\n",
    "1. Robin Hood is famous for hitting an arrow with another arrow. Did you get it?\n",
    "2. Calculate how many arrows have fallen in each quadrant.\n",
    "3. Find the point closest to the center. Calculate its distance to the center. \n",
    "4. If the target has a radius of 9, calculate the number of arrows that must be picked up in the forest."
   ]
  },
  {
   "cell_type": "code",
   "execution_count": 1,
   "metadata": {},
   "outputs": [],
   "source": [
    "# Variables\n",
    "\n",
    "\n",
    "points = [(4, 5), (-0, 2), (4, 7), (1, -3), (3, -2), (4, 5),\n",
    "          (3, 2), (5, 7), (-5, 7), (2, 2), (-4, 5), (0, -2),\n",
    "          (-4, 7), (-1, 3), (-3, 2), (-4, -5), (-3, 2),\n",
    "          (5, 7), (5, 7), (2, 2), (9, 9), (-8, -9)]"
   ]
  },
  {
   "cell_type": "code",
   "execution_count": 2,
   "metadata": {},
   "outputs": [
    {
     "name": "stdout",
     "output_type": "stream",
     "text": [
      "True\n"
     ]
    }
   ],
   "source": [
    "# 1. Robin Hood is famous for hitting an arrow with another arrow. Did you get it?\n",
    "\n",
    "\"\"\"\n",
    "\n",
    "unique_points = set(points)\n",
    "duplicated_points = []\n",
    "\n",
    "for i in list(unique_points):\n",
    "    removed_points = list(points)\n",
    "    removed_points.remove(i)\n",
    "    if i in list(removed_points):\n",
    "        duplicated_points.append(i)\n",
    "    \n",
    "\n",
    "print(duplicated_points)\n",
    "\"\"\"\n",
    "\n",
    "#Create set with the unique hits\n",
    "unique_points = set(points)\n",
    "\n",
    "#Check whether some hits fell in the same spot than other\n",
    "are_2hits = len(unique_points) < len(points)\n",
    "\n",
    "print(are_2hits)"
   ]
  },
  {
   "cell_type": "markdown",
   "metadata": {},
   "source": [
    "**Expected output**:\n",
    "```\n",
    "True\n",
    "```"
   ]
  },
  {
   "cell_type": "code",
   "execution_count": 3,
   "metadata": {},
   "outputs": [
    {
     "name": "stdout",
     "output_type": "stream",
     "text": [
      "(10, 6, 2, 2)\n"
     ]
    }
   ],
   "source": [
    "# 2. Calculate how many arrows have fallen in each quadrant.\n",
    "Q1_hits = 0\n",
    "Q2_hits = 0\n",
    "Q3_hits = 0\n",
    "Q4_hits = 0\n",
    "\n",
    "#Chech where each shot have fallen\n",
    "for shot in points:\n",
    "    #1st quadrant\n",
    "    if shot[0]>0 and shot[1]>0:\n",
    "        Q1_hits += 1\n",
    "    #2nd quadrant\n",
    "    elif shot[0]<0 and shot[1]>0:\n",
    "        Q2_hits += 1\n",
    "    #3rd quadrant\n",
    "    elif shot[0]<0 and shot[1]<0:\n",
    "        Q3_hits += 1\n",
    "    #4rd quadrant\n",
    "    elif shot[0]>0 and shot[1]<0:\n",
    "        Q4_hits += 1\n",
    "\n",
    "#Creating variable with the arrow count of each quadrant        \n",
    "quadrant_counter = (Q1_hits, Q2_hits, Q3_hits, Q4_hits)\n",
    "\n",
    "print(quadrant_counter)\n"
   ]
  },
  {
   "cell_type": "markdown",
   "metadata": {},
   "source": [
    "**Expected output**:\n",
    "```\n",
    "(10, 6, 2, 2)\n",
    "```"
   ]
  },
  {
   "cell_type": "code",
   "execution_count": 4,
   "metadata": {},
   "outputs": [
    {
     "name": "stdout",
     "output_type": "stream",
     "text": [
      "Hit(s) closest to the center:\n",
      "(0, 2)\n",
      "(0, -2)\n",
      "Closest distance to the center: 2.0\n"
     ]
    }
   ],
   "source": [
    "# 3. Find the point closest to the center. Calculate its distance to the center\n",
    "# Defining a function that calculates the distance to the center can help.\n",
    "\n",
    "import numpy as np\n",
    "shot_distance = []\n",
    "\n",
    "def distance(shot):\n",
    "    return  np.sqrt(shot[0]**2 + shot[1]**2)\n",
    "\n",
    "#Saving the distance to the center of each shot\n",
    "for shot in list(unique_points):\n",
    "    shot_distance.append( distance(shot) )\n",
    "    \n",
    "\n",
    "#Finding the closes distance to the center\n",
    "closest_distance = min(shot_distance)\n",
    "\n",
    "\n",
    "#Printing each arrow whose distance is the minimum one \n",
    "print(\"Hit(s) closest to the center:\")\n",
    "for i in range(len(unique_points)):\n",
    "    if shot_distance[i] ==  closest_distance:\n",
    "        print(list(unique_points)[i])\n",
    "\n",
    "\n",
    "print(\"Closest distance to the center:\", closest_distance)\n"
   ]
  },
  {
   "cell_type": "markdown",
   "metadata": {},
   "source": [
    "**Expected output**:\n",
    "```\n",
    "(0, 2)\n",
    "2.0\n",
    "```"
   ]
  },
  {
   "cell_type": "code",
   "execution_count": 5,
   "metadata": {},
   "outputs": [
    {
     "name": "stdout",
     "output_type": "stream",
     "text": [
      "Missed arrows:  [(9, 9), (-8, -9)]\n",
      "Number of missed arrows:  2\n"
     ]
    }
   ],
   "source": [
    "# 4. If the target has a radius of 9, calculate the number of arrows that \n",
    "# must be picked up in the forest.\n",
    "\n",
    "n_missed_shots = 0\n",
    "missed_shots  = []\n",
    "\n",
    "#Checking for each arrow if they hit the target\n",
    "for shot in points:\n",
    "    #If it misses (distance > 9) it saves the coordinates and ads one to the counter\n",
    "    if distance(shot) > 9:\n",
    "        n_missed_shots += 1\n",
    "        missed_shots.append(shot)\n",
    "\n",
    "print(\"Missed arrows: \", missed_shots)\n",
    "print(\"Number of missed arrows: \",n_missed_shots)"
   ]
  },
  {
   "cell_type": "markdown",
   "metadata": {},
   "source": [
    "**Expected output**:\n",
    "```\n",
    "[(9, 9), (-8, -9)]\n",
    "2\n",
    "```"
   ]
  },
  {
   "cell_type": "code",
   "execution_count": null,
   "metadata": {},
   "outputs": [],
   "source": []
  }
 ],
 "metadata": {
  "kernelspec": {
   "display_name": "Python 3",
   "language": "python",
   "name": "python3"
  },
  "language_info": {
   "codemirror_mode": {
    "name": "ipython",
    "version": 3
   },
   "file_extension": ".py",
   "mimetype": "text/x-python",
   "name": "python",
   "nbconvert_exporter": "python",
   "pygments_lexer": "ipython3",
   "version": "3.8.3"
  }
 },
 "nbformat": 4,
 "nbformat_minor": 2
}
