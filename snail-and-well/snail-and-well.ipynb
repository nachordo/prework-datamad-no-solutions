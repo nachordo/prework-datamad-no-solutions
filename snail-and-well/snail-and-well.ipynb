{
 "cells": [
  {
   "cell_type": "markdown",
   "metadata": {},
   "source": [
    "# Snail and well\n",
    "\n",
    "A snail falls at the bottom of a 125 cm well. Each day the snail rises 30 cm. But at night, while sleeping, slides 20 cm because the walls are wet. How many days does it take to escape from the well?\n",
    "\n",
    "TIP: http://puzzles.nigelcoldwell.co.uk/sixtytwo.htm"
   ]
  },
  {
   "cell_type": "markdown",
   "metadata": {},
   "source": [
    "## Solución"
   ]
  },
  {
   "cell_type": "code",
   "execution_count": 1,
   "metadata": {},
   "outputs": [
    {
     "name": "stdout",
     "output_type": "stream",
     "text": [
      "Day: 1 , Advance (cm): 10 , Position (cm): 10\n",
      "Day: 2 , Advance (cm): 10 , Position (cm): 20\n",
      "Day: 3 , Advance (cm): 10 , Position (cm): 30\n",
      "Day: 4 , Advance (cm): 10 , Position (cm): 40\n",
      "Day: 5 , Advance (cm): 10 , Position (cm): 50\n",
      "Day: 6 , Advance (cm): 10 , Position (cm): 60\n",
      "Day: 7 , Advance (cm): 10 , Position (cm): 70\n",
      "Day: 8 , Advance (cm): 10 , Position (cm): 80\n",
      "Day: 9 , Advance (cm): 10 , Position (cm): 90\n",
      "Day: 10 , Advance (cm): 10 , Position (cm): 100\n",
      "Day: 11 , Advance (cm): 10 , Position (cm): 130\n",
      "The snail gets out of the well in 11 days\n"
     ]
    }
   ],
   "source": [
    "# Assign problem data to variables with representative names\n",
    "# well height, daily advance, night retreat, accumulated distance\n",
    "\n",
    "well_height = 125\n",
    "daily_distance = 30\n",
    "nightly_distance = 20\n",
    "snail_position = 0\n",
    "\n",
    "# Assign 0 to the variable that represents the solution\n",
    "\n",
    "days = 0\n",
    "\n",
    "# Write the code that solves the problem\n",
    "\n",
    "while snail_position <= well_height :\n",
    "    #Update snail position\n",
    "    snail_position += daily_distance \n",
    "    #Checks if the snail reached the top, and if not, it slides down\n",
    "    if snail_position <= well_height :\n",
    "        snail_position += -nightly_distance\n",
    "\n",
    "    #Update the day number\n",
    "    days += 1\n",
    "    #Print daily status of the snail\n",
    "    print(\"Day:\", days, \", Advance (cm):\", daily_distance  - nightly_distance, \", Position (cm):\", snail_position)     \n",
    "    \n",
    "# Print the result with print('Days =', days)\n",
    "\n",
    "print(\"The snail gets out of the well in \" +str(days)+\" days\")\n"
   ]
  },
  {
   "cell_type": "markdown",
   "metadata": {},
   "source": [
    "**Expected output**: \n",
    "```\n",
    "Days = 11\n",
    "```"
   ]
  },
  {
   "cell_type": "markdown",
   "metadata": {},
   "source": [
    "## Goals\n",
    "\n",
    "1. Treatment of variables\n",
    "2. Use of loop **while**\n",
    "3. Use of conditional **if-else**\n",
    "4. Print in console"
   ]
  },
  {
   "cell_type": "markdown",
   "metadata": {},
   "source": [
    "## Bonus\n",
    "The distance traveled by the snail is now defined by a list.\n",
    "```\n",
    "advance_cm = [30, 21, 33, 77, 44, 45, 23, 45, 12, 34, 55]\n",
    "```\n",
    "How long does it take to raise the well?\n",
    "\n",
    "What is its maximum displacement in one day? And its minimum?\n",
    "\n",
    "What is its average speed during the day?\n",
    "\n",
    "What is the standard deviation of its displacement during the day?"
   ]
  },
  {
   "cell_type": "code",
   "execution_count": 2,
   "metadata": {},
   "outputs": [
    {
     "name": "stdout",
     "output_type": "stream",
     "text": [
      "Day: 1 , Advance (cm): 10 , Position (cm): 10\n",
      "Day: 2 , Advance (cm): 10 , Position (cm): 11\n",
      "Day: 3 , Advance (cm): 1 , Position (cm): 24\n",
      "Day: 4 , Advance (cm): 1 , Position (cm): 81\n",
      "Day: 5 , Advance (cm): 13 , Position (cm): 105\n",
      "Day: 6 , Advance (cm): 13 , Position (cm): 150\n",
      "The snail gets out of the well in 6 days\n"
     ]
    }
   ],
   "source": [
    "# Assign problem data to variables with representative names\n",
    "# well height, daily advance, night retreat, accumulated distance\n",
    "\n",
    "well_height = 125\n",
    "advance_cm = [30, 21, 33, 77, 44, 45, 23, 45, 12, 34, 55]\n",
    "snail_position = 0\n",
    "nightly_distance = 20\n",
    "snail_position = 0\n",
    "\n",
    "# Assign 0 to the variable that represents the solution\n",
    "\n",
    "days = 0\n",
    "\n",
    "# Write the code that solves the problem\n",
    "\n",
    "daily_displacement = []\n",
    "while snail_position <= well_height :\n",
    "    #Update snail position\n",
    "    snail_position += advance_cm[days]  \n",
    "    daily_displacement.append(advance_cm[days]  - nightly_distance)\n",
    "    #Checks if the snail reached the top, and if not, it slides down\n",
    "    if snail_position <= well_height :\n",
    "        snail_position += -nightly_distance\n",
    "        daily_displacement.append(advance_cm[days] - nightly_distance)\n",
    "    else:\n",
    "        daily_displacement.append(well_height - snail_position)\n",
    "        \n",
    "    #Update the day number\n",
    "    days += 1\n",
    "    #Print daily status of the snail\n",
    "    print(\"Day:\", days, \", Advance (cm):\", daily_displacement[days -1], \", Position (cm):\", snail_position)    \n",
    "\n",
    "\n",
    "\n",
    "# Print the result with print('Days =', days)\n",
    "\n",
    "print(\"The snail gets out of the well in \" +str(days)+\" days\")   "
   ]
  },
  {
   "cell_type": "markdown",
   "metadata": {},
   "source": [
    "**Expected output**: \n",
    "```\n",
    "Days = 6\n",
    "```"
   ]
  },
  {
   "cell_type": "code",
   "execution_count": 3,
   "metadata": {},
   "outputs": [
    {
     "name": "stdout",
     "output_type": "stream",
     "text": [
      "Maximum displacement in one day (cm): 77\n",
      "Minimum displacement in one day (cm): 21\n"
     ]
    }
   ],
   "source": [
    "# What is its maximum displacement in a day? And its minimum?\n",
    "print(\"Maximum displacement in one day (cm):\", max(advance_cm[:days]) )\n",
    "print(\"Minimum displacement in one day (cm):\", min(advance_cm[:days]) )"
   ]
  },
  {
   "cell_type": "markdown",
   "metadata": {},
   "source": [
    "**Expected output**: \n",
    "```\n",
    "77 12\n",
    "```"
   ]
  },
  {
   "cell_type": "code",
   "execution_count": 4,
   "metadata": {},
   "outputs": [
    {
     "name": "stdout",
     "output_type": "stream",
     "text": [
      "Average progress (cm): 38.09090909090909\n"
     ]
    }
   ],
   "source": [
    "# What is its average progress?\n",
    "def average_displacement(displacement):\n",
    "    return sum(displacement)/len(displacement)\n",
    "\n",
    "print(\"Average progress (cm):\", average_displacement(advance_cm) )"
   ]
  },
  {
   "cell_type": "markdown",
   "metadata": {},
   "source": [
    "**Expected output**: \n",
    "```\n",
    "38.09090909090909\n",
    "```"
   ]
  },
  {
   "cell_type": "code",
   "execution_count": 5,
   "metadata": {},
   "outputs": [
    {
     "name": "stdout",
     "output_type": "stream",
     "text": [
      "Standard deviation of its displacement (cm): 17.159437082600803\n"
     ]
    }
   ],
   "source": [
    "# What is the standard deviation of your displacement during the day?\n",
    "import numpy as np\n",
    "\n",
    "def stdv_displacement(displacement):\n",
    "    rss = 0.\n",
    "    for i in displacement:\n",
    "        rss += ( i - average_displacement(displacement) ) ** 2\n",
    "    \n",
    "    return np.sqrt(rss / (len(displacement))) \n",
    "\n",
    "print(\"Standard deviation of its displacement (cm):\", stdv_displacement(advance_cm) )"
   ]
  },
  {
   "cell_type": "markdown",
   "metadata": {},
   "source": [
    "**Expected output**: \n",
    "```\n",
    "17.159437082600803\n",
    "```"
   ]
  }
 ],
 "metadata": {
  "kernelspec": {
   "display_name": "Python 3",
   "language": "python",
   "name": "python3"
  },
  "language_info": {
   "codemirror_mode": {
    "name": "ipython",
    "version": 3
   },
   "file_extension": ".py",
   "mimetype": "text/x-python",
   "name": "python",
   "nbconvert_exporter": "python",
   "pygments_lexer": "ipython3",
   "version": "3.8.3"
  }
 },
 "nbformat": 4,
 "nbformat_minor": 2
}
